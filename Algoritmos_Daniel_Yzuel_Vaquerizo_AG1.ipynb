{
  "nbformat": 4,
  "nbformat_minor": 0,
  "metadata": {
    "colab": {
      "provenance": [],
      "include_colab_link": true
    },
    "kernelspec": {
      "name": "python3",
      "display_name": "Python 3"
    },
    "language_info": {
      "name": "python"
    }
  },
  "cells": [
    {
      "cell_type": "markdown",
      "metadata": {
        "id": "view-in-github",
        "colab_type": "text"
      },
      "source": [
        "<a href=\"https://colab.research.google.com/github/DanielYzuel/Algoritmos-de-Optimizacion-VIU/blob/main/Algoritmos_Daniel_Yzuel_Vaquerizo_AG1.ipynb\" target=\"_parent\"><img src=\"https://colab.research.google.com/assets/colab-badge.svg\" alt=\"Open In Colab\"/></a>"
      ]
    },
    {
      "cell_type": "markdown",
      "metadata": {
        "id": "GG2D6vLdYwwy"
      },
      "source": [
        "Actividad Guiada 1 de Algoritmos de Optimizacion\n",
        "\n",
        "Nombre: Daniel Yzuel Vaquerizo\n",
        "\n",
        "https://colab.research.google.com/drive/1XDQXeYpOzzqzsWD97noTOlfsrcxl7pVR?usp=sharing\n",
        "\n",
        "https://github.com/DanielYzuel/Algoritmos-de-Optimizacion-VIU/blob/main/Algoritmos_Daniel_Yzuel_Vaquerizo_AG1.ipynb"
      ]
    },
    {
      "cell_type": "code",
      "metadata": {
        "id": "rTiqLuX2ZKuL",
        "outputId": "671d5ff3-ca33-41c0-d025-f00b504bfa84",
        "colab": {
          "base_uri": "https://localhost:8080/"
        }
      },
      "source": [
        "#Torres de Hanoi - Divide y venceras\n",
        "\n",
        "def Torres_Hanoi(N, desde, hasta):\n",
        "  #N - Nº de fichas\n",
        "  #desde - torre inicial\n",
        "  #hasta - torre fina\n",
        "  if N==1 :\n",
        "    print(\"Lleva la ficha desde \" + str(desde) + \" hasta \" + str(hasta))\n",
        "\n",
        "  else:\n",
        "    Torres_Hanoi(N-1, desde, 6-desde-hasta)\n",
        "    print(\"Lleva la ficha desde \" + str(desde) + \" hasta \" + str(hasta))\n",
        "    Torres_Hanoi(N-1, 6-desde-hasta,  hasta)\n",
        "\n",
        "Torres_Hanoi(5, 1, 3)"
      ],
      "execution_count": 93,
      "outputs": [
        {
          "output_type": "stream",
          "name": "stdout",
          "text": [
            "Lleva la ficha desde 1 hasta 3\n",
            "Lleva la ficha desde 1 hasta 2\n",
            "Lleva la ficha desde 3 hasta 2\n",
            "Lleva la ficha desde 1 hasta 3\n",
            "Lleva la ficha desde 2 hasta 1\n",
            "Lleva la ficha desde 2 hasta 3\n",
            "Lleva la ficha desde 1 hasta 3\n",
            "Lleva la ficha desde 1 hasta 2\n",
            "Lleva la ficha desde 3 hasta 2\n",
            "Lleva la ficha desde 3 hasta 1\n",
            "Lleva la ficha desde 2 hasta 1\n",
            "Lleva la ficha desde 3 hasta 2\n",
            "Lleva la ficha desde 1 hasta 3\n",
            "Lleva la ficha desde 1 hasta 2\n",
            "Lleva la ficha desde 3 hasta 2\n",
            "Lleva la ficha desde 1 hasta 3\n",
            "Lleva la ficha desde 2 hasta 1\n",
            "Lleva la ficha desde 2 hasta 3\n",
            "Lleva la ficha desde 1 hasta 3\n",
            "Lleva la ficha desde 2 hasta 1\n",
            "Lleva la ficha desde 3 hasta 2\n",
            "Lleva la ficha desde 3 hasta 1\n",
            "Lleva la ficha desde 2 hasta 1\n",
            "Lleva la ficha desde 2 hasta 3\n",
            "Lleva la ficha desde 1 hasta 3\n",
            "Lleva la ficha desde 1 hasta 2\n",
            "Lleva la ficha desde 3 hasta 2\n",
            "Lleva la ficha desde 1 hasta 3\n",
            "Lleva la ficha desde 2 hasta 1\n",
            "Lleva la ficha desde 2 hasta 3\n",
            "Lleva la ficha desde 1 hasta 3\n"
          ]
        }
      ]
    },
    {
      "cell_type": "code",
      "metadata": {
        "id": "YwBudj2hYoMR",
        "colab": {
          "base_uri": "https://localhost:8080/"
        },
        "outputId": "1647252a-d54e-4568-df73-7ae755b72c13"
      },
      "source": [
        "#Cambio de monedas - Técnica voraz\n",
        "\n",
        "SISTEMA = [11, 5 ,  1  ]\n",
        "\n",
        "def cambio_monedas(CANTIDAD,SISTEMA):\n",
        "\n",
        "  SOLUCION = [0]*len(SISTEMA)\n",
        "  ValorAcumulado = 0\n",
        "\n",
        "  for i,valor in enumerate(SISTEMA):\n",
        "    monedas = (CANTIDAD-ValorAcumulado)//valor\n",
        "    SOLUCION[i] = monedas\n",
        "    ValorAcumulado = ValorAcumulado + monedas*valor\n",
        "\n",
        "    if CANTIDAD == ValorAcumulado:\n",
        "      return SOLUCION\n",
        "\n",
        "  print(\"No es posible encontrar solucion\")\n",
        "\n",
        "cambio_monedas(28,SISTEMA)"
      ],
      "execution_count": 94,
      "outputs": [
        {
          "output_type": "execute_result",
          "data": {
            "text/plain": [
              "[2, 1, 1]"
            ]
          },
          "metadata": {},
          "execution_count": 94
        }
      ]
    },
    {
      "cell_type": "code",
      "metadata": {
        "id": "H4Iwt2XRZTFr",
        "colab": {
          "base_uri": "https://localhost:8080/"
        },
        "outputId": "46fb713e-d83e-4bd8-e6e0-7d298e0a10a9"
      },
      "source": [
        "#N Reinas - Vuelta Atrás()\n",
        "\n",
        "#Verifica que en la solución parcial no hay amenzas entre reinas\n",
        "\n",
        "def es_prometedora(SOLUCION,etapa):\n",
        "  #Si la solución tiene dos valores iguales no es valida => Dos reinas en la misma fila\n",
        "  for i in range(etapa+1):\n",
        "    #print(\"El valor \" + str(SOLUCION[i]) + \" está \" +  str(SOLUCION.count(SOLUCION[i])) + \" veces\")\n",
        "    if SOLUCION.count(SOLUCION[i]) > 1:\n",
        "      return False\n",
        "\n",
        "    #Verifica las diagonales\n",
        "    for j in range(i+1, etapa +1 ):\n",
        "      #print(\"Comprobando diagonal de \" + str(i) + \" y \" + str(j))\n",
        "      if abs(i-j) == abs(SOLUCION[i]-SOLUCION[j]) : return False\n",
        "  return True\n",
        "\n",
        "#Traduce la solución al tablero\n",
        "\n",
        "def escribe_solucion(S):\n",
        "  n = len(S)\n",
        "  for x in range(n):\n",
        "    print(\"\")\n",
        "    for i in range(n):\n",
        "      if S[i] == x+1:\n",
        "        print(\" X \" , end=\"\")\n",
        "      else:\n",
        "        print(\" - \", end=\"\")\n",
        "\n",
        "\n",
        "\n",
        "#Proceso principal de N-Reinas\n",
        "\n",
        "def reinas(N, solucion=[],etapa=0):\n",
        "  if len(solucion) == 0:         # [0,0,0...]\n",
        "    solucion = [0 for i in range(N) ]\n",
        "\n",
        "  for i in range(1, N+1):\n",
        "    solucion[etapa] = i\n",
        "    if es_prometedora(solucion, etapa):\n",
        "      if etapa == N-1:\n",
        "        print(solucion)\n",
        "      else:\n",
        "        reinas(N, solucion, etapa+1)\n",
        "    else:\n",
        "      None\n",
        "\n",
        "  solucion[etapa] = 0\n",
        "\n",
        "reinas(8,solucion=[],etapa=0)"
      ],
      "execution_count": 95,
      "outputs": [
        {
          "output_type": "stream",
          "name": "stdout",
          "text": [
            "[1, 5, 8, 6, 3, 7, 2, 4]\n",
            "[1, 6, 8, 3, 7, 4, 2, 5]\n",
            "[1, 7, 4, 6, 8, 2, 5, 3]\n",
            "[1, 7, 5, 8, 2, 4, 6, 3]\n",
            "[2, 4, 6, 8, 3, 1, 7, 5]\n",
            "[2, 5, 7, 1, 3, 8, 6, 4]\n",
            "[2, 5, 7, 4, 1, 8, 6, 3]\n",
            "[2, 6, 1, 7, 4, 8, 3, 5]\n",
            "[2, 6, 8, 3, 1, 4, 7, 5]\n",
            "[2, 7, 3, 6, 8, 5, 1, 4]\n",
            "[2, 7, 5, 8, 1, 4, 6, 3]\n",
            "[2, 8, 6, 1, 3, 5, 7, 4]\n",
            "[3, 1, 7, 5, 8, 2, 4, 6]\n",
            "[3, 5, 2, 8, 1, 7, 4, 6]\n",
            "[3, 5, 2, 8, 6, 4, 7, 1]\n",
            "[3, 5, 7, 1, 4, 2, 8, 6]\n",
            "[3, 5, 8, 4, 1, 7, 2, 6]\n",
            "[3, 6, 2, 5, 8, 1, 7, 4]\n",
            "[3, 6, 2, 7, 1, 4, 8, 5]\n",
            "[3, 6, 2, 7, 5, 1, 8, 4]\n",
            "[3, 6, 4, 1, 8, 5, 7, 2]\n",
            "[3, 6, 4, 2, 8, 5, 7, 1]\n",
            "[3, 6, 8, 1, 4, 7, 5, 2]\n",
            "[3, 6, 8, 1, 5, 7, 2, 4]\n",
            "[3, 6, 8, 2, 4, 1, 7, 5]\n",
            "[3, 7, 2, 8, 5, 1, 4, 6]\n",
            "[3, 7, 2, 8, 6, 4, 1, 5]\n",
            "[3, 8, 4, 7, 1, 6, 2, 5]\n",
            "[4, 1, 5, 8, 2, 7, 3, 6]\n",
            "[4, 1, 5, 8, 6, 3, 7, 2]\n",
            "[4, 2, 5, 8, 6, 1, 3, 7]\n",
            "[4, 2, 7, 3, 6, 8, 1, 5]\n",
            "[4, 2, 7, 3, 6, 8, 5, 1]\n",
            "[4, 2, 7, 5, 1, 8, 6, 3]\n",
            "[4, 2, 8, 5, 7, 1, 3, 6]\n",
            "[4, 2, 8, 6, 1, 3, 5, 7]\n",
            "[4, 6, 1, 5, 2, 8, 3, 7]\n",
            "[4, 6, 8, 2, 7, 1, 3, 5]\n",
            "[4, 6, 8, 3, 1, 7, 5, 2]\n",
            "[4, 7, 1, 8, 5, 2, 6, 3]\n",
            "[4, 7, 3, 8, 2, 5, 1, 6]\n",
            "[4, 7, 5, 2, 6, 1, 3, 8]\n",
            "[4, 7, 5, 3, 1, 6, 8, 2]\n",
            "[4, 8, 1, 3, 6, 2, 7, 5]\n",
            "[4, 8, 1, 5, 7, 2, 6, 3]\n",
            "[4, 8, 5, 3, 1, 7, 2, 6]\n",
            "[5, 1, 4, 6, 8, 2, 7, 3]\n",
            "[5, 1, 8, 4, 2, 7, 3, 6]\n",
            "[5, 1, 8, 6, 3, 7, 2, 4]\n",
            "[5, 2, 4, 6, 8, 3, 1, 7]\n",
            "[5, 2, 4, 7, 3, 8, 6, 1]\n",
            "[5, 2, 6, 1, 7, 4, 8, 3]\n",
            "[5, 2, 8, 1, 4, 7, 3, 6]\n",
            "[5, 3, 1, 6, 8, 2, 4, 7]\n",
            "[5, 3, 1, 7, 2, 8, 6, 4]\n",
            "[5, 3, 8, 4, 7, 1, 6, 2]\n",
            "[5, 7, 1, 3, 8, 6, 4, 2]\n",
            "[5, 7, 1, 4, 2, 8, 6, 3]\n",
            "[5, 7, 2, 4, 8, 1, 3, 6]\n",
            "[5, 7, 2, 6, 3, 1, 4, 8]\n",
            "[5, 7, 2, 6, 3, 1, 8, 4]\n",
            "[5, 7, 4, 1, 3, 8, 6, 2]\n",
            "[5, 8, 4, 1, 3, 6, 2, 7]\n",
            "[5, 8, 4, 1, 7, 2, 6, 3]\n",
            "[6, 1, 5, 2, 8, 3, 7, 4]\n",
            "[6, 2, 7, 1, 3, 5, 8, 4]\n",
            "[6, 2, 7, 1, 4, 8, 5, 3]\n",
            "[6, 3, 1, 7, 5, 8, 2, 4]\n",
            "[6, 3, 1, 8, 4, 2, 7, 5]\n",
            "[6, 3, 1, 8, 5, 2, 4, 7]\n",
            "[6, 3, 5, 7, 1, 4, 2, 8]\n",
            "[6, 3, 5, 8, 1, 4, 2, 7]\n",
            "[6, 3, 7, 2, 4, 8, 1, 5]\n",
            "[6, 3, 7, 2, 8, 5, 1, 4]\n",
            "[6, 3, 7, 4, 1, 8, 2, 5]\n",
            "[6, 4, 1, 5, 8, 2, 7, 3]\n",
            "[6, 4, 2, 8, 5, 7, 1, 3]\n",
            "[6, 4, 7, 1, 3, 5, 2, 8]\n",
            "[6, 4, 7, 1, 8, 2, 5, 3]\n",
            "[6, 8, 2, 4, 1, 7, 5, 3]\n",
            "[7, 1, 3, 8, 6, 4, 2, 5]\n",
            "[7, 2, 4, 1, 8, 5, 3, 6]\n",
            "[7, 2, 6, 3, 1, 4, 8, 5]\n",
            "[7, 3, 1, 6, 8, 5, 2, 4]\n",
            "[7, 3, 8, 2, 5, 1, 6, 4]\n",
            "[7, 4, 2, 5, 8, 1, 3, 6]\n",
            "[7, 4, 2, 8, 6, 1, 3, 5]\n",
            "[7, 5, 3, 1, 6, 8, 2, 4]\n",
            "[8, 2, 4, 1, 7, 5, 3, 6]\n",
            "[8, 2, 5, 3, 1, 7, 4, 6]\n",
            "[8, 3, 1, 6, 2, 5, 7, 4]\n",
            "[8, 4, 1, 3, 6, 2, 7, 5]\n"
          ]
        }
      ]
    },
    {
      "cell_type": "code",
      "metadata": {
        "id": "eTZclKH9QV0R",
        "colab": {
          "base_uri": "https://localhost:8080/"
        },
        "outputId": "398f6c15-8d39-45bb-94f3-5983a18ba0d4"
      },
      "source": [
        "escribe_solucion([8, 2, 5, 3, 1, 7, 4, 6])"
      ],
      "execution_count": 96,
      "outputs": [
        {
          "output_type": "stream",
          "name": "stdout",
          "text": [
            "\n",
            " -  -  -  -  X  -  -  - \n",
            " -  X  -  -  -  -  -  - \n",
            " -  -  -  X  -  -  -  - \n",
            " -  -  -  -  -  -  X  - \n",
            " -  -  X  -  -  -  -  - \n",
            " -  -  -  -  -  -  -  X \n",
            " -  -  -  -  -  X  -  - \n",
            " X  -  -  -  -  -  -  - "
          ]
        }
      ]
    },
    {
      "cell_type": "code",
      "metadata": {
        "id": "TocxR55dQWq5",
        "outputId": "f05a47ec-6323-4d13-ea46-1d873638b477",
        "colab": {
          "base_uri": "https://localhost:8080/",
          "height": 365
        }
      },
      "source": [
        "#Viaje por el rio - Programación dinámica\n",
        "\n",
        "TARIFAS = [\n",
        "[0,5,4,3,999,999,999],\n",
        "[999,0,999,2,3,999,11],\n",
        "[999,999, 0,1,999,4,10],\n",
        "[999,999,999, 0,5,6,9],\n",
        "[999,999, 999,999,0,999,4],\n",
        "[999,999, 999,999,999,0,3],\n",
        "[999,999,999,999,999,999,0]\n",
        "]\n",
        "\n",
        "#999 se puede sustituir por float(\"inf\")\n",
        "\n",
        "#Calculo de la matriz de PRECIOS y RUTAS\n",
        "\n",
        "def Precios(TARIFAS):\n",
        "  #Total de Nodos\n",
        "  N = len(TARIFAS[0])\n",
        "\n",
        "  #Inicialización de la tabla de precios\n",
        "  PRECIOS = [ [9999]*N for i in [9999]*N]\n",
        "  RUTA = [ [\"\"]*N for i in [\"\"]*N]\n",
        "\n",
        "  for i in range(0,N-1):\n",
        "    RUTA[i][i] = i             #Para ir de i a i se \"pasa por i\"\n",
        "    PRECIOS[i][i] = 0          #Para ir de i a i se se paga 0\n",
        "    for j in range(i+1, N):\n",
        "      MIN = TARIFAS[i][j]\n",
        "      RUTA[i][j] = i\n",
        "\n",
        "      for k in range(i, j):\n",
        "        if PRECIOS[i][k] + TARIFAS[k][j] < MIN:\n",
        "            MIN = min(MIN, PRECIOS[i][k] + TARIFAS[k][j] )\n",
        "            RUTA[i][j] = k          #Anota que para ir de i a j hay que pasar por k\n",
        "        PRECIOS[i][j] = MIN\n",
        "\n",
        "  return PRECIOS,RUTA\n",
        "\n",
        "PRECIOS,RUTA = Precios(TARIFAS)\n",
        "#print(PRECIOS[0][6])\n",
        "\n",
        "print(\"PRECIOS\")\n",
        "for i in range(len(TARIFAS)):\n",
        "  print(PRECIOS[i])\n",
        "\n",
        "print(\"\\nRUTA\")\n",
        "for i in range(len(TARIFAS)):\n",
        "  print(RUTA[i])\n",
        "\n",
        "#Determinar la ruta con Recursividad\n",
        "def calcular_ruta(RUTA, desde, hasta):\n",
        "  if desde == hasta:\n",
        "    #print(\"Ir a :\" + str(desde))\n",
        "    return \"\"\n",
        "  else:\n",
        "    return str(calcular_ruta( RUTA, desde, RUTA[desde][hasta])) +  \\\n",
        "                ',' + \\\n",
        "                str(RUTA[desde][hasta] \\\n",
        "              )\n",
        "\n",
        "print(\"\\nLa ruta es:\")\n",
        "calcular_ruta(RUTA, 0,6)"
      ],
      "execution_count": 97,
      "outputs": [
        {
          "output_type": "stream",
          "name": "stdout",
          "text": [
            "PRECIOS\n",
            "[0, 5, 4, 3, 8, 8, 11]\n",
            "[9999, 0, 999, 2, 3, 8, 7]\n",
            "[9999, 9999, 0, 1, 6, 4, 7]\n",
            "[9999, 9999, 9999, 0, 5, 6, 9]\n",
            "[9999, 9999, 9999, 9999, 0, 999, 4]\n",
            "[9999, 9999, 9999, 9999, 9999, 0, 3]\n",
            "[9999, 9999, 9999, 9999, 9999, 9999, 9999]\n",
            "\n",
            "RUTA\n",
            "[0, 0, 0, 0, 1, 2, 5]\n",
            "['', 1, 1, 1, 1, 3, 4]\n",
            "['', '', 2, 2, 3, 2, 5]\n",
            "['', '', '', 3, 3, 3, 3]\n",
            "['', '', '', '', 4, 4, 4]\n",
            "['', '', '', '', '', 5, 5]\n",
            "['', '', '', '', '', '', '']\n",
            "\n",
            "La ruta es:\n"
          ]
        },
        {
          "output_type": "execute_result",
          "data": {
            "text/plain": [
              "',0,2,5'"
            ],
            "application/vnd.google.colaboratory.intrinsic+json": {
              "type": "string"
            }
          },
          "metadata": {},
          "execution_count": 97
        }
      ]
    },
    {
      "cell_type": "markdown",
      "source": [
        "## Práctica Individual"
      ],
      "metadata": {
        "id": "jImTtp74OCQN"
      }
    },
    {
      "cell_type": "markdown",
      "source": [
        "### Problema: Encontrar los dos puntos más cercanos\n",
        "- Dado un conjunto de puntos se trata de encontrar los dos puntos más cercanos\n",
        "- Guía para aprendizaje:\n",
        "-  Suponer en 1D, o sea, una lista de números: [3403, 4537, 9089, 9746, 7259, …]\n",
        "- Primer intento: Fuerza bruta\n",
        "- Calcular la complejidad. ¿Se puede mejorar?\n",
        "- Segundo intento. Aplicar Divide y Vencerás\n",
        "- Calcular la complejidad. ¿Se puede mejorar?\n",
        "- Extender el algoritmo a 2D: [(1122, 6175), (135, 4076), (7296, 2741)…\n",
        "- Extender el algoritmo a 3D."
      ],
      "metadata": {
        "id": "f9p8QYJZOPHh"
      }
    },
    {
      "cell_type": "code",
      "source": [
        "# Para generar conjuntos de datos aleatorios\n",
        "import random\n",
        "\n",
        "LISTA_1D = [random.randrange(1,10000) for x in range(1000)]\n",
        "LISTA_2D = [(random.randrange(1,10000),random.randrange(1,10000)) for x in range(1000)]\n",
        "LISTA_3D = [(random.randrange(1,10000),random.randrange(1,10000),random.randrange(1,10000)) for x in range(1000)]"
      ],
      "metadata": {
        "id": "bf5XJw_HOT6S"
      },
      "execution_count": 98,
      "outputs": []
    },
    {
      "cell_type": "code",
      "source": [
        "#Fuerza Bruta\n",
        "def distancia_entre_puntos(p1, p2):\n",
        "    return abs(p1 - p2)\n",
        "\n",
        "def puntos_mas_cercanos_fuerza_bruta(puntos):\n",
        "    n = len(puntos)\n",
        "    if n < 2:\n",
        "        return None  # Necesitamos al menos dos puntos\n",
        "\n",
        "    min_distancia = float('inf')\n",
        "    puntos_cercanos = None\n",
        "\n",
        "    for i in range(n - 1):\n",
        "        for j in range(i + 1, n):\n",
        "            dist_actual = distancia_entre_puntos(puntos[i], puntos[j])\n",
        "            if dist_actual < min_distancia:\n",
        "                min_distancia = dist_actual\n",
        "                puntos_cercanos = (puntos[i], puntos[j])\n",
        "\n",
        "    return puntos_cercanos\n",
        "\n",
        "# Uso del método\n",
        "puntos_cercanos = puntos_mas_cercanos_fuerza_bruta(LISTA_1D)\n",
        "print(\"Puntos más cercanos:\", puntos_cercanos)\n"
      ],
      "metadata": {
        "colab": {
          "base_uri": "https://localhost:8080/"
        },
        "id": "pwovX2CoD8Cm",
        "outputId": "8c4f0eb6-a999-42ca-d0f5-c8e9a70bbac6"
      },
      "execution_count": 99,
      "outputs": [
        {
          "output_type": "stream",
          "name": "stdout",
          "text": [
            "Puntos más cercanos: (6509, 6509)\n"
          ]
        }
      ]
    },
    {
      "cell_type": "markdown",
      "source": [
        "La complejidad de este algoritmo de fuerza bruta es O(n^2), ya que iteramos sobre cada par de puntos en la lista. Ahora, ¿se puede mejorar?\n",
        "\n",
        "La respuesta es sí, y una forma de hacerlo es utilizando el algoritmo Divide y Vencerás. En 1D, puedes reducir la complejidad a O(n log n) utilizando un enfoque basado en la técnica de ordenación y búsqueda."
      ],
      "metadata": {
        "id": "1dK18JqnoSTw"
      }
    },
    {
      "cell_type": "code",
      "source": [
        "#Divide y vencerás\n",
        "def puntos_mas_cercanos_divide_y_venceras(puntos):\n",
        "    puntos_ordenados = sorted(puntos)\n",
        "    resultado = divide_y_venceras(puntos_ordenados)\n",
        "    if resultado is not None:\n",
        "        return resultado\n",
        "    else:\n",
        "        return None  # Manejar el caso de que no hay suficientes puntos\n",
        "\n",
        "def divide_y_venceras(puntos):\n",
        "    n = len(puntos)\n",
        "\n",
        "    if n <= 1:\n",
        "        return None  # No hay suficientes puntos para comparar\n",
        "\n",
        "    if n == 2:\n",
        "        return puntos  # Solo hay dos puntos, son los más cercanos\n",
        "\n",
        "    medio = n // 2\n",
        "    izquierda = puntos[:medio]\n",
        "    derecha = puntos[medio:]\n",
        "\n",
        "    # Resuelve recursivamente para cada mitad\n",
        "    puntos_izquierda = divide_y_venceras(izquierda)\n",
        "    puntos_derecha = divide_y_venceras(derecha)\n",
        "\n",
        "    # Manejar casos donde la recursión devuelve None\n",
        "    if puntos_izquierda is None:\n",
        "        return puntos_derecha\n",
        "    elif puntos_derecha is None:\n",
        "        return puntos_izquierda\n",
        "\n",
        "    # Encuentra la distancia mínima entre los puntos de las mitades\n",
        "    min_izquierda = abs(puntos_izquierda[0] - puntos_izquierda[1])\n",
        "    min_derecha = abs(puntos_derecha[0] - puntos_derecha[1])\n",
        "    min_distancia = min(min_izquierda, min_derecha)\n",
        "\n",
        "    # Encuentra la distancia mínima entre los puntos de mitades diferentes\n",
        "    puntos_entre_mitades = puntos_entre_mitades_fuerza_bruta(puntos, min_distancia)\n",
        "\n",
        "    # Manejar el caso donde la función de fuerza bruta devuelve None\n",
        "    if puntos_entre_mitades is None:\n",
        "        return min(puntos_izquierda, puntos_derecha, key=lambda x: abs(x[0] - x[1]))\n",
        "    else:\n",
        "        return min(puntos_izquierda, puntos_derecha, puntos_entre_mitades, key=lambda x: abs(x[0] - x[1]))\n",
        "\n",
        "def puntos_entre_mitades_fuerza_bruta(puntos, distancia_minima):\n",
        "    n = len(puntos)\n",
        "    puntos_cercanos = None\n",
        "\n",
        "    for i in range(n - 1):\n",
        "        for j in range(i + 1, min(i + 8, n)):  # Limitamos la búsqueda a un pequeño conjunto para mejorar eficiencia\n",
        "            dist_actual = abs(puntos[i] - puntos[j])\n",
        "            if dist_actual < distancia_minima:\n",
        "                distancia_minima = dist_actual\n",
        "                puntos_cercanos = (puntos[i], puntos[j])\n",
        "\n",
        "    return puntos_cercanos\n",
        "\n",
        "# Uso del método\n",
        "puntos_cercanos_optimizado = puntos_mas_cercanos_divide_y_venceras(LISTA_1D)\n",
        "print(\"Puntos más cercanos (Divide y Vencerás):\", puntos_cercanos_optimizado)\n"
      ],
      "metadata": {
        "colab": {
          "base_uri": "https://localhost:8080/"
        },
        "id": "KBmjWNXIGJOl",
        "outputId": "eb2e7a2f-c728-4de4-be6c-5946e08bdd34"
      },
      "execution_count": 100,
      "outputs": [
        {
          "output_type": "stream",
          "name": "stdout",
          "text": [
            "Puntos más cercanos (Divide y Vencerás): (124, 124)\n"
          ]
        }
      ]
    },
    {
      "cell_type": "markdown",
      "source": [
        "Este último enfoque tiene una complejidad de O(n log n) debido al paso de ordenación."
      ],
      "metadata": {
        "id": "tkRjBNHoocrM"
      }
    },
    {
      "cell_type": "code",
      "source": [
        "#2D\n",
        "def distancia_entre_puntos(p1, p2):\n",
        "    return math.sqrt((p1[0] - p2[0])**2 + (p1[1] - p2[1])**2)\n",
        "\n",
        "def puntos_mas_cercanos_divide_y_venceras_2d(puntos):\n",
        "    puntos_ordenados_x = sorted(puntos, key=lambda p: p[0])\n",
        "    resultado = divide_y_venceras_2d(puntos_ordenados_x)\n",
        "    if resultado is not None:\n",
        "        return resultado\n",
        "    else:\n",
        "        return None  # Manejar el caso de que no hay suficientes puntos\n",
        "\n",
        "def divide_y_venceras_2d(puntos_ordenados_x):\n",
        "    n = len(puntos_ordenados_x)\n",
        "\n",
        "    if n <= 1:\n",
        "        return None  # No hay suficientes puntos para comparar\n",
        "\n",
        "    if n == 2:\n",
        "        return puntos_ordenados_x  # Solo hay dos puntos, son los más cercanos\n",
        "\n",
        "    medio = n // 2\n",
        "    izquierda_x = puntos_ordenados_x[:medio]\n",
        "    derecha_x = puntos_ordenados_x[medio:]\n",
        "\n",
        "    puntos_izquierda = divide_y_venceras_2d(izquierda_x)\n",
        "    puntos_derecha = divide_y_venceras_2d(derecha_x)\n",
        "\n",
        "    if puntos_izquierda is None:\n",
        "        return puntos_derecha\n",
        "    elif puntos_derecha is None:\n",
        "        return puntos_izquierda\n",
        "\n",
        "    min_distancia = float('inf')\n",
        "    puntos_cercanos = None\n",
        "\n",
        "    for punto_izquierda in puntos_izquierda:\n",
        "        for punto_derecha in puntos_derecha:\n",
        "            dist_actual = distancia_entre_puntos(punto_izquierda, punto_derecha)\n",
        "            if dist_actual < min_distancia:\n",
        "                min_distancia = dist_actual\n",
        "                puntos_cercanos = (punto_izquierda, punto_derecha)\n",
        "\n",
        "    return puntos_cercanos\n",
        "\n",
        "# Uso del método\n",
        "puntos_cercanos_optimizado_2d = puntos_mas_cercanos_divide_y_venceras_2d(LISTA_2D)\n",
        "print(\"Puntos más cercanos (Divide y Vencerás - 2D):\", puntos_cercanos_optimizado_2d)\n"
      ],
      "metadata": {
        "colab": {
          "base_uri": "https://localhost:8080/"
        },
        "id": "lFwq-4SMeard",
        "outputId": "56ae770e-93ad-4089-c48e-0b81e1e41161"
      },
      "execution_count": 101,
      "outputs": [
        {
          "output_type": "stream",
          "name": "stdout",
          "text": [
            "Puntos más cercanos (Divide y Vencerás - 2D): ((3189, 2653), (6804, 5470))\n"
          ]
        }
      ]
    },
    {
      "cell_type": "code",
      "source": [
        "#3D\n",
        "def distancia_entre_puntos_3d(p1, p2):\n",
        "    return math.sqrt((p1[0] - p2[0])**2 + (p1[1] - p2[1])**2 + (p1[2] - p2[2])**2)\n",
        "\n",
        "def puntos_mas_cercanos_divide_y_venceras_3d(puntos):\n",
        "    puntos_ordenados_xyz = sorted(puntos, key=lambda p: p[0])\n",
        "    resultado = divide_y_venceras_3d(puntos_ordenados_xyz)\n",
        "    if resultado is not None:\n",
        "        return resultado\n",
        "    else:\n",
        "        return None  # Manejar el caso de que no hay suficientes puntos\n",
        "\n",
        "def divide_y_venceras_3d(puntos_ordenados_xyz):\n",
        "    n = len(puntos_ordenados_xyz)\n",
        "\n",
        "    if n <= 1:\n",
        "        return None  # No hay suficientes puntos para comparar\n",
        "\n",
        "    if n == 2:\n",
        "        return puntos_ordenados_xyz  # Solo hay dos puntos, son los más cercanos\n",
        "\n",
        "    medio = n // 2\n",
        "    izquierda_xyz = puntos_ordenados_xyz[:medio]\n",
        "    derecha_xyz = puntos_ordenados_xyz[medio:]\n",
        "\n",
        "    puntos_izquierda = divide_y_venceras_3d(izquierda_xyz)\n",
        "    puntos_derecha = divide_y_venceras_3d(derecha_xyz)\n",
        "\n",
        "    if puntos_izquierda is None:\n",
        "        return puntos_derecha\n",
        "    elif puntos_derecha is None:\n",
        "        return puntos_izquierda\n",
        "\n",
        "    min_distancia = float('inf')\n",
        "    puntos_cercanos = None\n",
        "\n",
        "    for punto_izquierda in puntos_izquierda:\n",
        "        for punto_derecha in puntos_derecha:\n",
        "            dist_actual = distancia_entre_puntos_3d(punto_izquierda, punto_derecha)\n",
        "            if dist_actual < min_distancia:\n",
        "                min_distancia = dist_actual\n",
        "                puntos_cercanos = (punto_izquierda, punto_derecha)\n",
        "\n",
        "    return puntos_cercanos\n",
        "\n",
        "# Uso del método en 3D\n",
        "puntos_cercanos_optimizado_3d = puntos_mas_cercanos_divide_y_venceras_3d(LISTA_3D)\n",
        "print(\"Puntos más cercanos (Divide y Vencerás - 3D):\", puntos_cercanos_optimizado_3d)\n"
      ],
      "metadata": {
        "colab": {
          "base_uri": "https://localhost:8080/"
        },
        "id": "op7aEdJEfj1K",
        "outputId": "6b6aab46-51fc-4669-9fc8-9370deda855f"
      },
      "execution_count": 102,
      "outputs": [
        {
          "output_type": "stream",
          "name": "stdout",
          "text": [
            "Puntos más cercanos (Divide y Vencerás - 3D): ((3097, 4134, 4261), (6392, 6287, 3839))\n"
          ]
        }
      ]
    }
  ]
}